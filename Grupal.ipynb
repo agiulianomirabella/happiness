{
 "cells": [
  {
   "cell_type": "markdown",
   "id": "exempt-concentration",
   "metadata": {},
   "source": [
    "# Test ANOVA and p-values\n",
    "\n",
    "En este notebook se estudiará la relevancia de los parámetros del dataset con respecto a la felicidad, la variable sobre la que nos planteamos más preguntas. Conocer cuáles son los parámetros más relevantes nos servirá para utilizarlos para predecir, visualizar y en definitiva analizar mejor la variable target.\n",
    "\n",
    "Para ello, utilizaremos la técnica del test ANOVA que nos indica si (probabilísticamente) las medias de dos o más muestras son iguales. Unos p-valores bajos indican que las medias difieren, lo cual es una característica deseable de cualquier feature, y viceversa. Los parámetros con p-valores menores serán los que mejor nos permitan estudiar la felicidad.\n"
   ]
  },
  {
   "cell_type": "code",
   "execution_count": 2,
   "id": "respiratory-relative",
   "metadata": {},
   "outputs": [],
   "source": [
    "from sklearn.feature_selection import f_classif, SelectPercentile\n",
    "from sklearn.preprocessing import MinMaxScaler\n",
    "from sklearn.impute import SimpleImputer\n",
    "import pandas as pd\n",
    "import matplotlib.pyplot as plt"
   ]
  },
  {
   "cell_type": "code",
   "execution_count": 3,
   "id": "handed-forward",
   "metadata": {},
   "outputs": [],
   "source": [
    "def read_data(year=None):\n",
    "    if year:\n",
    "        return __read_year(year)\n",
    "    df = __read_year(2015)\n",
    "    for year in [2016, 2017, 2018, 2019]:\n",
    "        df = pd.concat([df, __read_year(year)], axis=0)\n",
    "    df = df.drop(columns = ['country', 'year'])\n",
    "    columns = [c for c in df.columns if not df[c].isnull().values.all()]\n",
    "    df = pd.DataFrame(SimpleImputer(strategy='mean').fit_transform(df), columns=columns)\n",
    "    df = pd.DataFrame(MinMaxScaler().fit_transform(df), columns=df.columns)\n",
    "    return df\n",
    "\n",
    "def __read_year(year):\n",
    "    df = pd.read_csv('../data/'+ str(year) +'.csv')\n",
    "    df['year'] = year\n",
    "    return df\n",
    "\n",
    "\n",
    "\n",
    "# DE UNA PRÁCTICA DE LA ASIGNATURA MLE:\n",
    "def muestra_relevancias(nombres, relevancias):\n",
    "    '''Función para mostrar una gráfica con el grado de relevancia de cada atributo\n",
    "    \n",
    "    Recibe:\n",
    "       - nombres: nombres de todos los atributos\n",
    "       - relevancias: de cada atributo, calculadas mediante alguna técnica\n",
    "    '''\n",
    "    plt.figure(figsize=(len(nombres)/4,5))\n",
    "    serie = pd.Series(relevancias, index=nombres)\n",
    "    serie.plot(kind='bar')\n",
    "\n",
    "def muestra_seleccion(nombres, mascara):\n",
    "    '''Función para mostrar los nombres de los atributos seleccionados a partir de una máscara de booleanos\n",
    "    \n",
    "    Recibe:\n",
    "       - nombres: nombres de todos los atributos\n",
    "       - mascara: lista de booleanos que determina si un atributo se selecciona, o no\n",
    "    '''    \n",
    "    seleccionados = [n for n,m in zip(nombres, mascara) if m]\n",
    "    print(len(seleccionados), seleccionados)"
   ]
  },
  {
   "cell_type": "code",
   "execution_count": 4,
   "id": "constitutional-animal",
   "metadata": {},
   "outputs": [
    {
     "data": {
      "text/html": [
       "<div>\n",
       "<style scoped>\n",
       "    .dataframe tbody tr th:only-of-type {\n",
       "        vertical-align: middle;\n",
       "    }\n",
       "\n",
       "    .dataframe tbody tr th {\n",
       "        vertical-align: top;\n",
       "    }\n",
       "\n",
       "    .dataframe thead th {\n",
       "        text-align: right;\n",
       "    }\n",
       "</style>\n",
       "<table border=\"1\" class=\"dataframe\">\n",
       "  <thead>\n",
       "    <tr style=\"text-align: right;\">\n",
       "      <th></th>\n",
       "      <th>health</th>\n",
       "      <th>family</th>\n",
       "      <th>economy</th>\n",
       "      <th>freedom</th>\n",
       "      <th>generosity</th>\n",
       "      <th>corruption</th>\n",
       "      <th>dystopia</th>\n",
       "      <th>score</th>\n",
       "    </tr>\n",
       "  </thead>\n",
       "  <tbody>\n",
       "    <tr>\n",
       "      <th>0</th>\n",
       "      <td>0.825092</td>\n",
       "      <td>0.820870</td>\n",
       "      <td>0.666274</td>\n",
       "      <td>0.919296</td>\n",
       "      <td>0.354121</td>\n",
       "      <td>0.760595</td>\n",
       "      <td>0.623743</td>\n",
       "      <td>0.964145</td>\n",
       "    </tr>\n",
       "    <tr>\n",
       "      <th>1</th>\n",
       "      <td>0.830710</td>\n",
       "      <td>0.852938</td>\n",
       "      <td>0.621336</td>\n",
       "      <td>0.868467</td>\n",
       "      <td>0.520598</td>\n",
       "      <td>0.256292</td>\n",
       "      <td>0.676357</td>\n",
       "      <td>0.959023</td>\n",
       "    </tr>\n",
       "    <tr>\n",
       "      <th>2</th>\n",
       "      <td>0.766556</td>\n",
       "      <td>0.827603</td>\n",
       "      <td>0.632385</td>\n",
       "      <td>0.896934</td>\n",
       "      <td>0.407350</td>\n",
       "      <td>0.876175</td>\n",
       "      <td>0.616521</td>\n",
       "      <td>0.952325</td>\n",
       "    </tr>\n",
       "    <tr>\n",
       "      <th>3</th>\n",
       "      <td>0.775819</td>\n",
       "      <td>0.809580</td>\n",
       "      <td>0.696088</td>\n",
       "      <td>0.925041</td>\n",
       "      <td>0.414032</td>\n",
       "      <td>0.661394</td>\n",
       "      <td>0.608904</td>\n",
       "      <td>0.951340</td>\n",
       "    </tr>\n",
       "    <tr>\n",
       "      <th>4</th>\n",
       "      <td>0.793716</td>\n",
       "      <td>0.804507</td>\n",
       "      <td>0.632772</td>\n",
       "      <td>0.874268</td>\n",
       "      <td>0.546622</td>\n",
       "      <td>0.597144</td>\n",
       "      <td>0.605043</td>\n",
       "      <td>0.932624</td>\n",
       "    </tr>\n",
       "  </tbody>\n",
       "</table>\n",
       "</div>"
      ],
      "text/plain": [
       "     health    family   economy   freedom  generosity  corruption  dystopia  \\\n",
       "0  0.825092  0.820870  0.666274  0.919296    0.354121    0.760595  0.623743   \n",
       "1  0.830710  0.852938  0.621336  0.868467    0.520598    0.256292  0.676357   \n",
       "2  0.766556  0.827603  0.632385  0.896934    0.407350    0.876175  0.616521   \n",
       "3  0.775819  0.809580  0.696088  0.925041    0.414032    0.661394  0.608904   \n",
       "4  0.793716  0.804507  0.632772  0.874268    0.546622    0.597144  0.605043   \n",
       "\n",
       "      score  \n",
       "0  0.964145  \n",
       "1  0.959023  \n",
       "2  0.952325  \n",
       "3  0.951340  \n",
       "4  0.932624  "
      ]
     },
     "execution_count": 4,
     "metadata": {},
     "output_type": "execute_result"
    }
   ],
   "source": [
    "df = read_data()\n",
    "df.head()"
   ]
  },
  {
   "cell_type": "code",
   "execution_count": 5,
   "id": "noticed-cookie",
   "metadata": {},
   "outputs": [],
   "source": [
    "TARGET = 'score'\n",
    "\n",
    "y = df.pop(TARGET)\n",
    "X = df"
   ]
  },
  {
   "cell_type": "code",
   "execution_count": 6,
   "id": "brown-cycle",
   "metadata": {},
   "outputs": [
    {
     "data": {
      "image/png": "[encoded data removed]",
      "text/plain": [
       "<Figure size 126x360 with 1 Axes>"
      ]
     },
     "metadata": {
      "needs_background": "light"
     },
     "output_type": "display_data"
    },
    {
     "data": {
      "image/png": "[encoded data removed]",
      "text/plain": [
       "<Figure size 126x360 with 1 Axes>"
      ]
     },
     "metadata": {
      "needs_background": "light"
     },
     "output_type": "display_data"
    }
   ],
   "source": [
    "fvalues, pvalues = f_classif(X, y)\n",
    "muestra_relevancias(X.columns.values, pvalues)\n",
    "muestra_relevancias(X.columns.values, fvalues)\n",
    "\n",
    "\n",
    "#the p-value is used for hypothesis testing. ANOVA tests whether means of two or more samples\n",
    "#are equal. A low p-value shows that at least 2 samples have different means which is a good\n",
    "#indicator for a feature. Usually values below 0.1 or 0.05 or 0.01 mean that this feature could\n",
    "#be used.\n",
    "#fvalues: variation between sample means / variation within the samples"
   ]
  },
  {
   "cell_type": "code",
   "execution_count": 7,
   "id": "hybrid-maryland",
   "metadata": {},
   "outputs": [
    {
     "name": "stdout",
     "output_type": "stream",
     "text": [
      "Útiles:  0.05\n",
      "    health -> 1.274319993495839e-05\n",
      "    family -> 0.0001083174982530592\n",
      "    economy -> 2.967209127860035e-12\n",
      "    freedom -> 0.04665939637667144\n",
      "    generosity -> 0.023517944252092814\n",
      "    corruption -> 1.067666164144516e-06\n",
      "    dystopia -> 1.6614385217133244e-05\n",
      "\n",
      "No útiles:  0.05\n"
     ]
    }
   ],
   "source": [
    "_, pvalues = f_classif(X, y)\n",
    "umbral = 0.05\n",
    "atributos_pvalues = zip(X.columns.values, pvalues)\n",
    "print(\"Útiles: \", umbral) \n",
    "for a,p in atributos_pvalues:\n",
    "    if p<=umbral:\n",
    "        print(\"   \", a, \"->\", p)\n",
    "        \n",
    "_, pvalues = f_classif(X, y)\n",
    "umbral = 0.05\n",
    "atributos_pvalues = zip(X.columns.values, pvalues)\n",
    "print(\"\\nNo útiles: \", umbral) \n",
    "for a,p in atributos_pvalues:\n",
    "    if p>umbral:\n",
    "        print(\"   \", a, \"->\", p)"
   ]
  },
  {
   "cell_type": "code",
   "execution_count": 8,
   "id": "deadly-cutting",
   "metadata": {},
   "outputs": [
    {
     "name": "stdout",
     "output_type": "stream",
     "text": [
      "3 ['health', 'economy', 'corruption']\n"
     ]
    }
   ],
   "source": [
    "selector = SelectPercentile(f_classif, percentile=50)\n",
    "selector.fit(X,y)\n",
    "mascara = selector.get_support()\n",
    "s = muestra_seleccion(X.columns.values, mascara)"
   ]
  },
  {
   "cell_type": "markdown",
   "id": "northern-nightlife",
   "metadata": {},
   "source": [
    "## Generalización\n",
    "\n",
    "A continuación, vamos a aplicar el mismo razonamiento hecho hasta ahora, pero para una variable general de la que se tiene interés. Para ello, definiremos una función que, dado un nombre de una variable, nos informe de los parámetros útiles y de los no útiles. Posteriormente, podremos llamar dicha función para los parámetros _health_, _economy_, y los que se deseen..."
   ]
  },
  {
   "cell_type": "code",
   "execution_count": 9,
   "id": "minus-cylinder",
   "metadata": {},
   "outputs": [],
   "source": [
    "def best_features(target_name, dataframe):\n",
    "    df = dataframe.copy()\n",
    "\n",
    "    y = df.pop(target_name)\n",
    "    X = df\n",
    "    \n",
    "    _, pvalues = f_classif(X, y)\n",
    "    umbral = 0.05\n",
    "    atributos_pvalues = zip(X.columns.values, pvalues)\n",
    "    print(\"Útiles: \", umbral) \n",
    "    for a,p in atributos_pvalues:\n",
    "        if p<=umbral:\n",
    "            print(\"   \", a, \"->\", p)\n",
    "\n",
    "    _, pvalues = f_classif(X, y)\n",
    "    umbral = 0.05\n",
    "    atributos_pvalues = zip(X.columns.values, pvalues)\n",
    "    print(\"\\nNo útiles: \", umbral) \n",
    "    for a,p in atributos_pvalues:\n",
    "        if p>umbral:\n",
    "            print(\"   \", a, \"->\", p)"
   ]
  },
  {
   "cell_type": "code",
   "execution_count": 10,
   "id": "knowing-oregon",
   "metadata": {},
   "outputs": [
    {
     "name": "stdout",
     "output_type": "stream",
     "text": [
      "******    health    ******\n",
      "\n",
      "Útiles:  0.05\n",
      "    family -> 2.1458156143480332e-07\n",
      "    economy -> 0.0019496207814510302\n",
      "    freedom -> 5.0390649566158396e-23\n",
      "    corruption -> 0.017561755724758054\n",
      "    score -> 0.003406697313026365\n",
      "\n",
      "No útiles:  0.05\n",
      "    generosity -> 0.6950734552453552\n",
      "    dystopia -> 0.21072266881987975\n",
      "\n",
      "\n",
      "\n",
      "******    family    ******\n",
      "\n",
      "Útiles:  0.05\n",
      "    health -> 0.037465932411100314\n",
      "    economy -> 1.110247965883946e-05\n",
      "    generosity -> 0.040715976952153156\n",
      "    dystopia -> 2.482654180300463e-25\n",
      "    score -> 1.5914392713977302e-06\n",
      "\n",
      "No útiles:  0.05\n",
      "    freedom -> 0.32135228460805043\n",
      "    corruption -> 0.3281903387597842\n",
      "\n",
      "\n",
      "\n",
      "******    economy    ******\n",
      "\n",
      "Útiles:  0.05\n",
      "    health -> 0.000875440857713059\n",
      "    family -> 4.1103815601964095e-05\n",
      "    generosity -> 0.013819082410911914\n",
      "    corruption -> 0.03535532767899637\n",
      "    dystopia -> 1.1913698860922931e-05\n",
      "    score -> 5.416699313188013e-05\n",
      "\n",
      "No útiles:  0.05\n",
      "    freedom -> 0.7087335904224609\n",
      "\n",
      "\n",
      "\n",
      "******    freedom    ******\n",
      "\n",
      "Útiles:  0.05\n",
      "    health -> 2.317114786892367e-15\n",
      "    family -> 3.834181613879335e-05\n",
      "    corruption -> 0.0059810699657670725\n",
      "    dystopia -> 0.03967468565660733\n",
      "\n",
      "No útiles:  0.05\n",
      "    economy -> 0.4945567201625542\n",
      "    generosity -> 0.42639714062848194\n",
      "    score -> 0.21922792271557717\n",
      "\n",
      "\n",
      "\n",
      "******    generosity    ******\n",
      "\n",
      "Útiles:  0.05\n",
      "    family -> 0.004086808436237905\n",
      "    corruption -> 0.0006186519513198386\n",
      "    dystopia -> 1.0528519468037332e-107\n",
      "\n",
      "No útiles:  0.05\n",
      "    health -> 0.9706220264211061\n",
      "    economy -> 0.09894151302564978\n",
      "    freedom -> 0.9136812342392101\n",
      "    score -> 0.14375495432707197\n",
      "\n",
      "\n",
      "\n",
      "******    corruption    ******\n",
      "\n",
      "Útiles:  0.05\n",
      "    family -> 0.012254132201031082\n",
      "    economy -> 0.00353494707581351\n",
      "    generosity -> 2.485136770316244e-12\n",
      "    dystopia -> 1.77362750781082e-77\n",
      "    score -> 0.004427669460313565\n",
      "\n",
      "No útiles:  0.05\n",
      "    health -> 0.9136030621975865\n",
      "    freedom -> 0.974540590547641\n",
      "\n",
      "\n",
      "\n",
      "******    dystopia    ******\n",
      "\n",
      "Útiles:  0.05\n",
      "    family -> 0.002675865527518628\n",
      "    generosity -> 5.2283561152286684e-11\n",
      "    corruption -> 0.0009003840713357379\n",
      "\n",
      "No útiles:  0.05\n",
      "    health -> 0.999996957353455\n",
      "    economy -> 0.16100880337158974\n",
      "    freedom -> 0.9999967957074394\n",
      "    score -> 0.36041330986689246\n",
      "\n",
      "\n",
      "\n",
      "******    score    ******\n",
      "\n",
      "Útiles:  0.05\n",
      "    health -> 1.274319993495839e-05\n",
      "    family -> 0.0001083174982530592\n",
      "    economy -> 2.967209127860035e-12\n",
      "    freedom -> 0.04665939637667144\n",
      "    generosity -> 0.023517944252092814\n",
      "    corruption -> 1.067666164144516e-06\n",
      "    dystopia -> 1.6614385217133244e-05\n",
      "\n",
      "No útiles:  0.05\n",
      "\n",
      "\n",
      "\n"
     ]
    }
   ],
   "source": [
    "df = read_data()\n",
    "\n",
    "for column in df.columns:\n",
    "    print('******    {}    ******\\n'.format(column))\n",
    "    best_features(column, df)\n",
    "    print('\\n\\n')"
   ]
  },
  {
   "cell_type": "markdown",
   "id": "hidden-chemistry",
   "metadata": {},
   "source": [
    "De esta forma, hemos conseguido responder a la pregunta sobre cuáles parámetros son más eficacer para predecir linealmente una variable objetivo cualquiera."
   ]
  }
 ],
 "metadata": {
  "kernelspec": {
   "display_name": "happiness",
   "language": "python",
   "name": "happiness"
  },
  "language_info": {
   "codemirror_mode": {
    "name": "ipython",
    "version": 3
   },
   "file_extension": ".py",
   "mimetype": "text/x-python",
   "name": "python",
   "nbconvert_exporter": "python",
   "pygments_lexer": "ipython3",
   "version": "3.7.9"
  }
 },
 "nbformat": 4,
 "nbformat_minor": 5
}
