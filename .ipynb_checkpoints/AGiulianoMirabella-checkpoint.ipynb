{
 "cells": [
  {
   "cell_type": "markdown",
   "id": "mathematical-rebecca",
   "metadata": {},
   "source": [
    "# Análisis de la felicidad con Data Science\n",
    "(Parte individual)\n",
    "\n",
    "Autor: A. Giuliano Mirabella\n",
    "última modificación: 5/04/2021"
   ]
  },
  {
   "cell_type": "markdown",
   "id": "advanced-announcement",
   "metadata": {},
   "source": [
    "Este notebook sirve como memoria para la entrega de la parte individual de la asignatura de Data Science, donde mi compañero y yo hemos aplicado técnicas de Data Science a un dataset que guarda datos sobre la felicidad de varios países en varios años, así como . A lo largo del mismo se intentará responder a las preguntas:\n",
    "\n",
    "* ¿se podría comprimir la información del dataset?\n",
    "* ¿puede una red neuronal predecir la felicidad?\n",
    "\n",
    "## Índice:\n",
    "* [Principal Compoonents Analysis](#PCA)\n",
    "* [MultiLayer Perceptron](#MLP)\n"
   ]
  },
  {
   "cell_type": "markdown",
   "id": "light-daniel",
   "metadata": {},
   "source": [
    "## PCA <a name=\"PCA\"></a>\n",
    "\n",
    "En esta sección estudiaré la pregunta: ¿se podría comprimir la información del dataset?\n",
    "\n",
    "Para ello, recurriré a la técnica de _Principal Component Analysis_ (PCA), que consiste en crear una combinación lineal de las columnas originales para dar lugar a nuevas columnas artificiales que puedan _describir mejor_ el dataset. Describir \"mejor\" significa proporcionar suficiente variabilidad a pesar de la compresión de la información.\n",
    "\n",
    "Las nuevas variables artificiales no tienen (_a priori_) un sinificado semántico en el dominio del problema, pero pueden ser útiles para el tratamiento de datos cuando el número de columnas es excesivo, o incluso para especular sobre la _riqueza_ de información presente en el dataset: si pocas _principal components_ (PCs) son suficientes para conseguir una alta variabilidad entonces podemos suponer que las variables originales no difieren mucho entre sí, están correlacionadas, y por tanto no aportan mucha información relevante. Si, por el contrario, son necesarias muchas PCs, entonces podemos suponer que estamos ante un dataset donde cada variable aporta información significativa para la extracción de conocimiento."
   ]
  },
  {
   "cell_type": "markdown",
   "id": "arabic-screen",
   "metadata": {},
   "source": [
    "Empecemos importanto los paquetes necesarios y definiendo funciones útiles:"
   ]
  },
  {
   "cell_type": "code",
   "execution_count": 124,
   "id": "manual-michigan",
   "metadata": {},
   "outputs": [],
   "source": [
    "from sklearn.decomposition import PCA\n",
    "from sklearn.feature_selection import f_classif, SelectPercentile\n",
    "from sklearn.preprocessing import MinMaxScaler\n",
    "from sklearn.impute import SimpleImputer\n",
    "from sklearn.linear_model import LinearRegression\n",
    "from sklearn.metrics import mean_squared_error\n",
    "\n",
    "import pandas as pd\n",
    "import matplotlib.pyplot as plt\n",
    "%matplotlib inline"
   ]
  },
  {
   "cell_type": "code",
   "execution_count": 74,
   "id": "assisted-geography",
   "metadata": {},
   "outputs": [],
   "source": [
    "def read_data(year=None):\n",
    "    if year:\n",
    "        return __read_year(year)\n",
    "    df = __read_year(2015)\n",
    "    for year in [2016, 2017, 2018, 2019]:\n",
    "        df = pd.concat([df, __read_year(year)], axis=0)\n",
    "    df = df.drop(columns = ['country', 'year'])\n",
    "    columns = [c for c in df.columns if not df[c].isnull().values.all()]\n",
    "    df = pd.DataFrame(SimpleImputer(strategy='mean').fit_transform(df), columns=columns)\n",
    "    df = pd.DataFrame(MinMaxScaler().fit_transform(df), columns=df.columns)\n",
    "    return df\n",
    "\n",
    "def __read_year(year):\n",
    "    df = pd.read_csv('../data/'+ str(year) +'.csv')\n",
    "    df['year'] = year\n",
    "    return df\n",
    "\n",
    "def evalua(X, y):\n",
    "    return LinearRegression().fit(X, y).score(X, y)"
   ]
  },
  {
   "cell_type": "code",
   "execution_count": 75,
   "id": "noticed-raise",
   "metadata": {},
   "outputs": [
    {
     "data": {
      "text/html": [
       "<div>\n",
       "<style scoped>\n",
       "    .dataframe tbody tr th:only-of-type {\n",
       "        vertical-align: middle;\n",
       "    }\n",
       "\n",
       "    .dataframe tbody tr th {\n",
       "        vertical-align: top;\n",
       "    }\n",
       "\n",
       "    .dataframe thead th {\n",
       "        text-align: right;\n",
       "    }\n",
       "</style>\n",
       "<table border=\"1\" class=\"dataframe\">\n",
       "  <thead>\n",
       "    <tr style=\"text-align: right;\">\n",
       "      <th></th>\n",
       "      <th>health</th>\n",
       "      <th>family</th>\n",
       "      <th>economy</th>\n",
       "      <th>freedom</th>\n",
       "      <th>generosity</th>\n",
       "      <th>corruption</th>\n",
       "      <th>dystopia</th>\n",
       "      <th>score</th>\n",
       "    </tr>\n",
       "  </thead>\n",
       "  <tbody>\n",
       "    <tr>\n",
       "      <th>0</th>\n",
       "      <td>0.825092</td>\n",
       "      <td>0.820870</td>\n",
       "      <td>0.666274</td>\n",
       "      <td>0.919296</td>\n",
       "      <td>0.354121</td>\n",
       "      <td>0.760595</td>\n",
       "      <td>0.623743</td>\n",
       "      <td>0.964145</td>\n",
       "    </tr>\n",
       "    <tr>\n",
       "      <th>1</th>\n",
       "      <td>0.830710</td>\n",
       "      <td>0.852938</td>\n",
       "      <td>0.621336</td>\n",
       "      <td>0.868467</td>\n",
       "      <td>0.520598</td>\n",
       "      <td>0.256292</td>\n",
       "      <td>0.676357</td>\n",
       "      <td>0.959023</td>\n",
       "    </tr>\n",
       "    <tr>\n",
       "      <th>2</th>\n",
       "      <td>0.766556</td>\n",
       "      <td>0.827603</td>\n",
       "      <td>0.632385</td>\n",
       "      <td>0.896934</td>\n",
       "      <td>0.407350</td>\n",
       "      <td>0.876175</td>\n",
       "      <td>0.616521</td>\n",
       "      <td>0.952325</td>\n",
       "    </tr>\n",
       "    <tr>\n",
       "      <th>3</th>\n",
       "      <td>0.775819</td>\n",
       "      <td>0.809580</td>\n",
       "      <td>0.696088</td>\n",
       "      <td>0.925041</td>\n",
       "      <td>0.414032</td>\n",
       "      <td>0.661394</td>\n",
       "      <td>0.608904</td>\n",
       "      <td>0.951340</td>\n",
       "    </tr>\n",
       "    <tr>\n",
       "      <th>4</th>\n",
       "      <td>0.793716</td>\n",
       "      <td>0.804507</td>\n",
       "      <td>0.632772</td>\n",
       "      <td>0.874268</td>\n",
       "      <td>0.546622</td>\n",
       "      <td>0.597144</td>\n",
       "      <td>0.605043</td>\n",
       "      <td>0.932624</td>\n",
       "    </tr>\n",
       "  </tbody>\n",
       "</table>\n",
       "</div>"
      ],
      "text/plain": [
       "     health    family   economy   freedom  generosity  corruption  dystopia  \\\n",
       "0  0.825092  0.820870  0.666274  0.919296    0.354121    0.760595  0.623743   \n",
       "1  0.830710  0.852938  0.621336  0.868467    0.520598    0.256292  0.676357   \n",
       "2  0.766556  0.827603  0.632385  0.896934    0.407350    0.876175  0.616521   \n",
       "3  0.775819  0.809580  0.696088  0.925041    0.414032    0.661394  0.608904   \n",
       "4  0.793716  0.804507  0.632772  0.874268    0.546622    0.597144  0.605043   \n",
       "\n",
       "      score  \n",
       "0  0.964145  \n",
       "1  0.959023  \n",
       "2  0.952325  \n",
       "3  0.951340  \n",
       "4  0.932624  "
      ]
     },
     "execution_count": 75,
     "metadata": {},
     "output_type": "execute_result"
    }
   ],
   "source": [
    "df = read_data()\n",
    "df.head()"
   ]
  },
  {
   "cell_type": "code",
   "execution_count": 76,
   "id": "first-reputation",
   "metadata": {},
   "outputs": [],
   "source": [
    "TARGET = 'score'\n",
    "\n",
    "y = df.pop(TARGET)\n",
    "X = df"
   ]
  },
  {
   "cell_type": "code",
   "execution_count": 81,
   "id": "streaming-shaft",
   "metadata": {},
   "outputs": [],
   "source": [
    "# EJERCICIO: crear una función que pruebe el efecto de distintos valores de n_components (de 1 a un límite dado)\n",
    "def evolucion_n_components(X, y):\n",
    "    resultados = []\n",
    "    for i in range(1,len(X.columns)):\n",
    "        pca = PCA(n_components=i)\n",
    "        X_pca = pca.fit_transform(X)\n",
    "        resultados.append(evalua(X_pca,y))\n",
    "    plt.plot(resultados)\n",
    "    plt.show()"
   ]
  },
  {
   "cell_type": "code",
   "execution_count": 82,
   "id": "invisible-conflict",
   "metadata": {},
   "outputs": [
    {
     "data": {
      "image/png": "[encoded data removed]",
      "text/plain": [
       "<Figure size 432x288 with 1 Axes>"
      ]
     },
     "metadata": {
      "needs_background": "light"
     },
     "output_type": "display_data"
    }
   ],
   "source": [
    "evolucion_n_components(X, y)"
   ]
  },
  {
   "cell_type": "code",
   "execution_count": 115,
   "id": "inclusive-peninsula",
   "metadata": {},
   "outputs": [],
   "source": [
    "# EJERCICIO: aplicar PCA(10) sobre X_RUIDOSOS y mostrar la proporción de varianza capturada por cada componente\n",
    "def evolucion_varianza(X, y):\n",
    "    resultados = []\n",
    "    for i in range(1,len(X.columns)):\n",
    "        pca = PCA(n_components=i).fit(X, y)\n",
    "        resultados.append(sum(pca.explained_variance_ratio_))\n",
    "    plt.plot(resultados)\n",
    "    plt.ylim(0, 1)\n",
    "    plt.show()"
   ]
  },
  {
   "cell_type": "code",
   "execution_count": 116,
   "id": "increasing-observation",
   "metadata": {},
   "outputs": [
    {
     "data": {
      "image/png": "[encoded data removed]",
      "text/plain": [
       "<Figure size 432x288 with 1 Axes>"
      ]
     },
     "metadata": {
      "needs_background": "light"
     },
     "output_type": "display_data"
    }
   ],
   "source": [
    "evolucion_varianza(X, y)"
   ]
  },
  {
   "cell_type": "markdown",
   "id": "pediatric-context",
   "metadata": {},
   "source": [
    "Como podemos observar en la gráfica anterior, la pendiente de la varianza porcentual acumulada se mantiene relativamente constante con el aumento de las PCs. Esto significa que las últimas PCs (que son las menos importantes) también aportan información relavante al dataset en cuanto a varianza.\n",
    "\n",
    "De no ser así, observaríamos una gráfica más parecida a ésta:"
   ]
  },
  {
   "cell_type": "code",
   "execution_count": 123,
   "id": "affecting-christian",
   "metadata": {},
   "outputs": [
    {
     "data": {
      "image/png": "[encoded data removed]",
      "text/plain": [
       "<Figure size 432x288 with 1 Axes>"
      ]
     },
     "metadata": {
      "needs_background": "light"
     },
     "output_type": "display_data"
    }
   ],
   "source": [
    "ejemplo = [0, 0.5, 0.85, 0.95, 0.99, 0.999]\n",
    "plt.plot(ejemplo)\n",
    "plt.ylim(0, 1)\n",
    "plt.show()"
   ]
  },
  {
   "cell_type": "markdown",
   "id": "studied-trick",
   "metadata": {},
   "source": [
    "En cualquier caso, también hay que tener en cuenta que, aunque sea constante, la pendiente inicial no es muy alta, y de hecho únicamente con dos variables se podría llegaría a un 70% de variabilidad aproximadamente."
   ]
  },
  {
   "cell_type": "markdown",
   "id": "focal-feelings",
   "metadata": {},
   "source": [
    "## MLP <a name=\"MLP\"></a>\n",
    "\n",
    "En esta segunda parte vamos a estudiar la capacidad que tiene una red neuronal de predecir algo tan complejo como la felicidad. Tanto en la parte grupal como en la sección anterior hemos comprobado que un regresor lineal simple puede conseguir hasta un ~80% de precisión en predecir los valores de felicidad. Ahora vamos a utilizar un perceptrón multicapa (red neuronal), que es un sistema no lineal y que por tanto debería ser capaz de aprender relaciones de segundo orden entre variables y en última instancia de predecir con más precisión la felicidad. Veamos si efectivamente es así.\n",
    "\n",
    "Para este apartado hay que tener en cuenta que, por premiar la simplicidad, he implementado toda la lógica en ficheros a parte (no en este mismo notebook). Para revisar el código basta con abrirlo en cualquier editor de texto.\n",
    "\n",
    "Finalmente, he intentado que el **valor añadido** principal de este estudio sea la implementación de un sistema que automáticamente elija la mejhor configuración de hiperarámetros para una determinada tarea."
   ]
  },
  {
   "cell_type": "markdown",
   "id": "secure-country",
   "metadata": {},
   "source": [
    "Empecemos, como antes, cargando la funcionalidad necesaria:"
   ]
  },
  {
   "cell_type": "code",
   "execution_count": null,
   "id": "recognized-lithuania",
   "metadata": {},
   "outputs": [],
   "source": []
  }
 ],
 "metadata": {
  "kernelspec": {
   "display_name": "happiness",
   "language": "python",
   "name": "happiness"
  },
  "language_info": {
   "codemirror_mode": {
    "name": "ipython",
    "version": 3
   },
   "file_extension": ".py",
   "mimetype": "text/x-python",
   "name": "python",
   "nbconvert_exporter": "python",
   "pygments_lexer": "ipython3",
   "version": "3.7.9"
  }
 },
 "nbformat": 4,
 "nbformat_minor": 5
}
